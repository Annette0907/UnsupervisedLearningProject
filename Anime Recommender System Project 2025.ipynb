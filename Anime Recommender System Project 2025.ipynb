{
 "cells": [
  {
   "cell_type": "markdown",
   "id": "f76ca9be",
   "metadata": {},
   "source": [
    "# Anime Recommender System Project"
   ]
  },
  {
   "cell_type": "markdown",
   "id": "9b938482",
   "metadata": {},
   "source": [
    "## Importing Packages"
   ]
  },
  {
   "cell_type": "code",
   "execution_count": 6,
   "id": "2292d294",
   "metadata": {},
   "outputs": [],
   "source": [
    "import pandas as pd\n",
    "import numpy as np\n",
    "\n",
    "import matplotlib.pyplot as plt\n",
    "import seaborn as sns\n",
    "\n",
    "from sklearn.metrics.pairwise import cosine_similarity\n",
    "from sklearn.preprocessing import MinMaxScaler\n",
    "from sklearn.model_selection import train_test_split\n",
    "from sklearn.metrics import mean_squared_error"
   ]
  },
  {
   "cell_type": "markdown",
   "id": "4ddd3f42",
   "metadata": {},
   "source": [
    "## Data Collection & Description"
   ]
  },
  {
   "cell_type": "code",
   "execution_count": 7,
   "id": "f5fe6d74",
   "metadata": {},
   "outputs": [],
   "source": [
    "# Anime.csv, test.csv, and submission.csv are in the GitHub repo:\n",
    "# https://github.com/Annette0907/UnsupervisedLearningProject\n",
    "\n",
    "# train.csv is located locally at:\n",
    "# C:\\Users\\annet\\Documents\\Unsupervised_Learning\n",
    "\n",
    "# Data Summary:\n",
    "# anime.csv: Anime details (ID, name, genre, type, etc.)\n",
    "# train.csv: User-anime rating data\n",
    "# test.csv: Pairs to predict ratings for\n",
    "# submission.csv: Expected prediction format"
   ]
  },
  {
   "cell_type": "markdown",
   "id": "38376198",
   "metadata": {},
   "source": [
    "## Loading the Data"
   ]
  },
  {
   "cell_type": "code",
   "execution_count": 8,
   "id": "78d45d9a",
   "metadata": {},
   "outputs": [
    {
     "data": {
      "text/html": [
       "<div>\n",
       "<style scoped>\n",
       "    .dataframe tbody tr th:only-of-type {\n",
       "        vertical-align: middle;\n",
       "    }\n",
       "\n",
       "    .dataframe tbody tr th {\n",
       "        vertical-align: top;\n",
       "    }\n",
       "\n",
       "    .dataframe thead th {\n",
       "        text-align: right;\n",
       "    }\n",
       "</style>\n",
       "<table border=\"1\" class=\"dataframe\">\n",
       "  <thead>\n",
       "    <tr style=\"text-align: right;\">\n",
       "      <th></th>\n",
       "      <th>user_id</th>\n",
       "      <th>anime_id</th>\n",
       "    </tr>\n",
       "  </thead>\n",
       "  <tbody>\n",
       "    <tr>\n",
       "      <th>0</th>\n",
       "      <td>40763</td>\n",
       "      <td>21405</td>\n",
       "    </tr>\n",
       "    <tr>\n",
       "      <th>1</th>\n",
       "      <td>68791</td>\n",
       "      <td>10504</td>\n",
       "    </tr>\n",
       "    <tr>\n",
       "      <th>2</th>\n",
       "      <td>40487</td>\n",
       "      <td>1281</td>\n",
       "    </tr>\n",
       "    <tr>\n",
       "      <th>3</th>\n",
       "      <td>55290</td>\n",
       "      <td>165</td>\n",
       "    </tr>\n",
       "    <tr>\n",
       "      <th>4</th>\n",
       "      <td>72323</td>\n",
       "      <td>11111</td>\n",
       "    </tr>\n",
       "    <tr>\n",
       "      <th>5</th>\n",
       "      <td>31109</td>\n",
       "      <td>2144</td>\n",
       "    </tr>\n",
       "    <tr>\n",
       "      <th>6</th>\n",
       "      <td>20474</td>\n",
       "      <td>31790</td>\n",
       "    </tr>\n",
       "    <tr>\n",
       "      <th>7</th>\n",
       "      <td>60432</td>\n",
       "      <td>245</td>\n",
       "    </tr>\n",
       "    <tr>\n",
       "      <th>8</th>\n",
       "      <td>21853</td>\n",
       "      <td>934</td>\n",
       "    </tr>\n",
       "    <tr>\n",
       "      <th>9</th>\n",
       "      <td>53474</td>\n",
       "      <td>2104</td>\n",
       "    </tr>\n",
       "  </tbody>\n",
       "</table>\n",
       "</div>"
      ],
      "text/plain": [
       "   user_id  anime_id\n",
       "0    40763     21405\n",
       "1    68791     10504\n",
       "2    40487      1281\n",
       "3    55290       165\n",
       "4    72323     11111\n",
       "5    31109      2144\n",
       "6    20474     31790\n",
       "7    60432       245\n",
       "8    21853       934\n",
       "9    53474      2104"
      ]
     },
     "execution_count": 8,
     "metadata": {},
     "output_type": "execute_result"
    }
   ],
   "source": [
    "anime = pd.read_csv('https://raw.githubusercontent.com/Annette0907/UnsupervisedLearningProject/main/anime.csv')\n",
    "test = pd.read_csv('https://raw.githubusercontent.com/Annette0907/UnsupervisedLearningProject/main/test.csv')\n",
    "submission = pd.read_csv('https://raw.githubusercontent.com/Annette0907/UnsupervisedLearningProject/main/submission.csv')\n",
    "train = pd.read_csv('C:/Users/annet/Documents/Unsupervised_Learning/train.csv')\n",
    "\n",
    "anime.head(10)\n",
    "train.head(10)\n",
    "test.head(10)"
   ]
  },
  {
   "cell_type": "markdown",
   "id": "5430d526",
   "metadata": {},
   "source": [
    "## Data Cleaning & Filtering"
   ]
  },
  {
   "cell_type": "code",
   "execution_count": 9,
   "id": "60912a7b",
   "metadata": {},
   "outputs": [],
   "source": [
    "train = train[train['rating'] != -1]\n",
    "merged = pd.merge(train, anime, on='anime_id', how='left')\n",
    "merged['genre'] = merged['genre'].fillna('Unknown')\n",
    "merged['episodes'] = pd.to_numeric(merged['episodes'], errors='coerce').fillna(0)\n",
    "merged['rating_y'] = merged['rating_y'].fillna(merged['rating_y'].mean())"
   ]
  }
 ],
 "metadata": {
  "kernelspec": {
   "display_name": "Python 3",
   "language": "python",
   "name": "python3"
  },
  "language_info": {
   "codemirror_mode": {
    "name": "ipython",
    "version": 3
   },
   "file_extension": ".py",
   "mimetype": "text/x-python",
   "name": "python",
   "nbconvert_exporter": "python",
   "pygments_lexer": "ipython3",
   "version": "3.11.7"
  }
 },
 "nbformat": 4,
 "nbformat_minor": 5
}
